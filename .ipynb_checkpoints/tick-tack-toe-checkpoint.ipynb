{
 "cells": [
  {
   "cell_type": "markdown",
   "id": "bb0cb047",
   "metadata": {},
   "source": [
    "<font size = '5'> <center> <u>**Tick tack toe using Reinforcement Learning**</u></center></font>\n",
    "\n",
    "In this notebook, we will teach an agent to play tick tack toe using reinforcement learning. "
   ]
  },
  {
   "cell_type": "code",
   "execution_count": 3,
   "id": "38ab9f6c",
   "metadata": {},
   "outputs": [],
   "source": [
    "#first import all the libraries needed\n",
    "from board import tick_tack_toe\n",
    "import matplotlib.pyplot as plt\n",
    "import numpy as np\n",
    "import random\n",
    "from IPython.display import clear_output"
   ]
  },
  {
   "cell_type": "markdown",
   "id": "5a4107b8",
   "metadata": {},
   "source": [
    "First we will check the board out."
   ]
  },
  {
   "cell_type": "code",
   "execution_count": 4,
   "id": "ca92262e",
   "metadata": {},
   "outputs": [
    {
     "name": "stdout",
     "output_type": "stream",
     "text": [
      "    |    |   \n",
      "    |    |  \n",
      "____|____|___\n",
      "    |    |  \n",
      "    |    |  \n",
      "____|____|___\n",
      "    |    |  \n",
      "    |    |  \n",
      "    |    |  \n"
     ]
    }
   ],
   "source": [
    "#initialize a game\n",
    "game = tick_tack_toe()\n",
    "game.print_board()"
   ]
  },
  {
   "attachments": {
    "pic1.PNG": {
     "image/png": "[encoded data removed]"
    }
   },
   "cell_type": "markdown",
   "id": "ac521258",
   "metadata": {},
   "source": [
    "<u><font size = '3'> **Reinforcement Learning** </font></u>\n",
    "\n",
    "The model will give values to the agent after each state. The state consist all the moves played by the agents at the end of a game. During training, agent 1 will be taught to play first and agent 2 second. In agent 1's memory we will store all the states that were rewarding to agent 1 and in agent 2's memory we will store all the states that were rewarding for agent 2. \n",
    "\n",
    "Agent 1 will be playing 'O' and agent 2 will be playing 'X'. An example of a state vector is below. \n",
    "\n",
    "![pic1.PNG](attachment:pic1.PNG)\n",
    "\n",
    "In the game above, agent 1 started first so the following state vector will be assigned to agent 1's memory with a reward of +1. \n",
    "\n",
    "state = [1, 4, 5, 8, 9]\n",
    "\n",
    "since this is in player 1's memory 1 the player knows that the moves he/she played was 1, 5, 9 against moves 4 and 8 by agent 2. And since agent 1 won the game this will be a rewarding state for agent 1 whereas for agent 2, this will be a bad state to visit again. So we will assign -1 for agent 2 for this game. If the game is a draw both agents will recieve 0 points. \n",
    "\n",
    "So if the first iteration had the game above, player 1 and player 2 will have the following states stored. \n",
    "\n",
    "- Player 1 - [1, 4, 5, 8, 9] with a value of +1\n",
    "- Player 2 - [1, 4, 5, 8, 9] with a value of -1\n",
    "\n",
    "\n",
    "Now let's create some functions to select moves, store values etc.\n",
    "\n",
    "<u>Selecting moves -</u> \n",
    "\n",
    "Each agent will select moves based on the values of the stored moves in each memory. If there is no games stored in the memory the agent will randomly select moves. The agent also want to explore so we will have the agent select random moves once in a while. "
   ]
  },
  {
   "cell_type": "code",
   "execution_count": 88,
   "id": "dad822b8",
   "metadata": {},
   "outputs": [],
   "source": [
    "#the first function will select moves\n",
    "\n",
    "def choose_move(move_number, avail_moves, current_state, states, values, epsilon = 0.1):\n",
    "    \"\"\"\n",
    "    inputs\n",
    "    -------\n",
    "    move_number - current move number (ranges from 1 - 9)\n",
    "    avail_moves - moves that are available to choose from\n",
    "    current_state - the current state vector of the game\n",
    "    states - memory with the already played states\n",
    "    values - an array containing the values of each of those states in the memory\n",
    "    epsilon - the probability the algorithm will explore new moves\n",
    "    \n",
    "    output\n",
    "    -------\n",
    "    action - this function outputs the most rewarding move\n",
    "    \"\"\"\n",
    "    \n",
    "    #exploration. choose 0 and 1 with a given probability. and explore if 0 is chosen\n",
    "    explore = np.random.choice([0, 1], p = [epsilon, 1 - epsilon])\n",
    "    \n",
    "    if explore == 0:\n",
    "        \n",
    "        #randomly choose action\n",
    "        action = np.random.choice(avail_moves)\n",
    "    \n",
    "    else:\n",
    "        \n",
    "        #get all the indices from the states that is equal to the current state of the game\n",
    "        v = []\n",
    "        idx = []\n",
    "                   \n",
    "        for i, state in enumerate(states):\n",
    "            st = state[:move_number]\n",
    "            \n",
    "            if st == current_state:\n",
    "                v.append(values[i])          \n",
    "                idx.append(i)\n",
    "                \n",
    "        #find the maximum value\n",
    "        if (v == []) == True:\n",
    "            action = np.random.choice(avail_moves)\n",
    "            \n",
    "        else:\n",
    "            max_val_idx = np.argmax(v)\n",
    "            max_idx = idx[max_val_idx]\n",
    "            action = states[max_idx][move_number]\n",
    "            \n",
    "    return action"
   ]
  },
  {
   "cell_type": "markdown",
   "id": "5d733d13",
   "metadata": {},
   "source": [
    "We'll run some hypothetical situations to see if the choose_move function is working properly. We will use two example situations and will run multile iterations and plot the moves selected by the function. \n",
    "\n",
    "First we will create some hypothetical states and their values vectors. \n",
    "\n",
    "states = [[3, 1, 4, 5, 6], [1, 2, 5, 6, 4], [1, 2, 3, 6]]\n",
    "\n",
    "values = [8, 9, 1]\n",
    "\n",
    "<u>**Scenario 1**</u>\n",
    "\n",
    "move_number = 1\n",
    "\n",
    "available_moves = [3, 6, 0, 1]\n",
    "\n",
    "current_state = [1]\n",
    "\n",
    "In this situation, the current state is 1 and there are two games in the memory (states vector) that we already played move 1 first. If we look at the values vector the respective values for those two states are 9 and 1, so ideally the function should choose the next move from the state that has the highest value. So the algorithm will choose move 2 frequently in this situation.\n",
    "\n",
    "<u>**Scenario 2**</u>\n",
    "\n",
    "move_number = 3\n",
    "\n",
    "available_moves = [3, 6, 0, 1]\n",
    "\n",
    "current_state = [1, 2]\n",
    "\n",
    "In this situation, the current state is [1, 2]. There are two moves played so the function will choose the third move. Out of states already played there are two states that 1 and 2 were played. Out of those two states the state [1, 2, 5, 6, 4] has the highest reward (9) so the algorithm will frequently choose move 5 to maximize reward."
   ]
  },
  {
   "cell_type": "code",
   "execution_count": 89,
   "id": "44ec09a8",
   "metadata": {},
   "outputs": [
    {
     "data": {
      "image/png": "[encoded data removed]",
      "text/plain": [
       "<Figure size 360x216 with 1 Axes>"
      ]
     },
     "metadata": {
      "needs_background": "light"
     },
     "output_type": "display_data"
    },
    {
     "data": {
      "image/png": "[encoded data removed]",
      "text/plain": [
       "<Figure size 360x216 with 1 Axes>"
      ]
     },
     "metadata": {
      "needs_background": "light"
     },
     "output_type": "display_data"
    }
   ],
   "source": [
    "#states and values\n",
    "states = [[3, 1, 4, 5, 6], [1, 2, 5, 6, 4], [1, 2, 3, 6]]\n",
    "values = [8, 9, 1]\n",
    "\n",
    "#available moves\n",
    "available_moves =  [3, 6, 0, 1]\n",
    "\n",
    "#situation 1\n",
    "current_state = [1]\n",
    "move_number = len(current_state)\n",
    "\n",
    "selected_move = []\n",
    "\n",
    "for i in range(100):\n",
    "    selected_move.append(choose_move(move_number, available_moves, current_state, states, values))\n",
    "    \n",
    "#plot the distribution\n",
    "plt.figure(figsize = (5, 3))\n",
    "plt.hist(selected_move)\n",
    "plt.title('Scenario 1')\n",
    "plt.show()\n",
    "\n",
    "#situation 2\n",
    "current_state = [1, 2]\n",
    "move_number = len(current_state)\n",
    "\n",
    "selected_move = []\n",
    "\n",
    "for i in range(100):\n",
    "    selected_move.append(choose_move(move_number, available_moves, current_state, states, values))\n",
    "    \n",
    "#plot the distribution\n",
    "plt.figure(figsize = (5, 3))\n",
    "plt.hist(selected_move)\n",
    "plt.title('Scenario 2')\n",
    "plt.show()"
   ]
  },
  {
   "cell_type": "markdown",
   "id": "61747427",
   "metadata": {},
   "source": [
    "As expected the agent has selected move 2 in scenario 1 and move 5 in scenario 2. So the function seems to collect the moves correctly. \n",
    "\n",
    "Now let's create a function that rewards for winning states and penalizes losing states."
   ]
  },
  {
   "cell_type": "code",
   "execution_count": 90,
   "id": "707340f9",
   "metadata": {},
   "outputs": [],
   "source": [
    "#function to give the rewards\n",
    "\n",
    "def give_reward(states_and_values, moves, reward, alpha = 0.2):\n",
    "    \n",
    "    \"\"\"\n",
    "    inputs\n",
    "    ---------\n",
    "    states_and_values - a dictionary containing states and each state's values\n",
    "    moves - a list containing the current_state moves\n",
    "    reward - the reward awarded \n",
    "    alpha - the learning_rate by default set to 0.5\n",
    "    \n",
    "    output\n",
    "    -------\n",
    "    states_and_values - a dictionary after the moves with the new reward added\n",
    "    \"\"\"\n",
    "    \n",
    "    if tuple(moves) in states_and_values.keys():\n",
    "        states_and_values[tuple(moves)] += alpha * (reward)\n",
    "    else:\n",
    "        states_and_values[tuple(moves)] = reward\n",
    "        \n",
    "    return states_and_values\n",
    "    "
   ]
  },
  {
   "cell_type": "markdown",
   "id": "c2ef11fb",
   "metadata": {},
   "source": [
    "**RL Agent vs RL Agent**\n",
    "\n",
    "Now Let's try to create a self play algorithm where two agents are playing together"
   ]
  },
  {
   "cell_type": "code",
   "execution_count": 98,
   "id": "c82fad37",
   "metadata": {},
   "outputs": [
    {
     "name": "stdout",
     "output_type": "stream",
     "text": [
      "    |    |   \n",
      " X  | X  | O\n",
      "____|____|___\n",
      "    |    |  \n",
      "    | O  |  \n",
      "____|____|___\n",
      "    |    |  \n",
      " O  |    |  \n",
      "    |    |  \n"
     ]
    }
   ],
   "source": [
    "#player 1 memory\n",
    "player1 = {}\n",
    "p1_wins = []\n",
    "states1 = []\n",
    "values1 = []\n",
    "\n",
    "player2 = {}\n",
    "p2_wins = []\n",
    "states2 = []\n",
    "values2 = []\n",
    "\n",
    "\n",
    "draw = []\n",
    "\n",
    "#number of iterations of self play\n",
    "num_its = 10**4\n",
    "\n",
    "\n",
    "for i in range(num_its):\n",
    "    \n",
    "    #player 1 is always first\n",
    "    player = 1\n",
    "    \n",
    "    #game_on\n",
    "    game_on = True\n",
    "      \n",
    "    #initialize the game\n",
    "    game = tick_tack_toe()\n",
    "\n",
    "    #intial values\n",
    "    move_number = 1\n",
    "    avail_moves = [1, 2, 3, 4, 5, 6, 7, 8, 9]\n",
    "    current_state = []\n",
    "    winner = ''\n",
    "\n",
    "    while move_number < 10:\n",
    "        \n",
    "\n",
    "        #if a winner is declared by the game.check_winner() the game will stop and will assign the rewards\n",
    "        if (winner == 'X') or (winner == 'O'):\n",
    "            \n",
    "            #print the end game after every 2000th iteration\n",
    "            if i % 10000 == 0:\n",
    "\n",
    "                game.print_board()\n",
    "\n",
    "\n",
    "            break\n",
    "        \n",
    "        #choose move for each player\n",
    "        \n",
    "        if player == 1:\n",
    "            move = choose_move(move_number, avail_moves, current_state, states1, values1, epsilon = 0.01)\n",
    "        \n",
    "        elif player == 2:\n",
    "            move = choose_move(move_number, avail_moves, current_state, states2, values2, epsilon = 0.01)\n",
    "        \n",
    "        #play the move\n",
    "        _, avail_moves = game.play(move, player)\n",
    "        winner = game.check_winner()\n",
    "        \n",
    "        #game.print_board()\n",
    "        #clear_output()\n",
    "\n",
    "        #change the move number\n",
    "        move_number = move_number + 1\n",
    "        #append the move to the current state\n",
    "        current_state.append(move)\n",
    "        \n",
    "        #switch turns\n",
    "        if player == 1:\n",
    "            player = 2\n",
    "        elif player == 2:\n",
    "            player = 1\n",
    "    \n",
    "    if winner == 'O':\n",
    "        \n",
    "        #player 1\n",
    "        player1 = give_reward(player1, current_state, 1)        \n",
    "        states_tup1 = player1.keys()\n",
    "        states1 = [list(s) for s in states_tup1]\n",
    "        values1 = list(player1.values())\n",
    "              \n",
    "        #player 2\n",
    "        player2 = give_reward(player2, current_state, -1)\n",
    "        states_tup2 = player2.keys()\n",
    "        states2 = [list(s) for s in states_tup2]\n",
    "        values2 = list(player2.values())\n",
    "        p1_wins.append(1)\n",
    "        p2_wins.append(0)\n",
    "        draw.append(0)\n",
    "        \n",
    "    elif winner == 'X':\n",
    "        \n",
    "        #Player 2\n",
    "        player2 = give_reward(player2, current_state, 1)\n",
    "        states_tup2 = player2.keys()\n",
    "        states2 = [list(s) for s in states_tup2]\n",
    "        values2 = list(player2.values())\n",
    "    \n",
    "        #player 1\n",
    "        player1 = give_reward(player1, current_state, -1)\n",
    "        states_tup1 = player1.keys()\n",
    "        states1 = [list(s) for s in states_tup1]\n",
    "        values1 = list(player1.values())\n",
    "        \n",
    "        p1_wins.append(0)\n",
    "        p2_wins.append(1)\n",
    "        draw.append(0)\n",
    "        \n",
    "        \n",
    "    elif winner is None:\n",
    "        \n",
    "        #player 1\n",
    "        player1 = give_reward(player1, current_state, 0.5)\n",
    "        states_tup1 = player1.keys()\n",
    "        states1 = [list(s) for s in states_tup1]\n",
    "        values1 = list(player1.values())\n",
    "        \n",
    "        #player 2\n",
    "        player2 = give_reward(player2, current_state, 0.5)\n",
    "        states_tup2 = player2.keys()\n",
    "        states2 = [list(s) for s in states_tup2]\n",
    "        values2 = list(player2.values())\n",
    "        \n",
    "        p1_wins.append(0)\n",
    "        p2_wins.append(0)\n",
    "        draw.append(1)"
   ]
  },
  {
   "cell_type": "code",
   "execution_count": 99,
   "id": "43b10f6f",
   "metadata": {},
   "outputs": [
    {
     "data": {
      "image/png": "[encoded data removed]",
      "text/plain": [
       "<Figure size 720x576 with 1 Axes>"
      ]
     },
     "metadata": {
      "needs_background": "light"
     },
     "output_type": "display_data"
    },
    {
     "name": "stdout",
     "output_type": "stream",
     "text": [
      "Winning percentage for player 1 (RL agent): 0.5776 %\n",
      "Winning percentage for player 2 (RL agent):  0.2946 %\n",
      "Percentage of a game being draw:  0.1278 %\n"
     ]
    }
   ],
   "source": [
    "#plot game and number of wins\n",
    "def cum_sum(p_wins):\n",
    "    \n",
    "    x = np.arange(0, len(p_wins))\n",
    "    y = []\n",
    "    s = 0\n",
    "    \n",
    "    for i in range(len(x)):\n",
    "        \n",
    "        s += p_wins[i]\n",
    "        y.append(s)\n",
    "        \n",
    "    \n",
    "    y = np.array(y)           \n",
    "    \n",
    "    return x + 1, y \n",
    "\n",
    "#for player 1 and 2 find the cumulative sum \n",
    "\n",
    "x1, y1 = cum_sum(p1_wins)\n",
    "x2, y2 = cum_sum(p2_wins)\n",
    "dx, dy = cum_sum(draw)\n",
    "\n",
    "plt.figure(figsize = (10, 8))\n",
    "plt.plot(x1, y1, color = 'r', linewidth = 2, label = 'Player 1 - RL agent')\n",
    "plt.plot(x2, y2, color = 'b', linewidth = 2, label = 'Player 2 - RL agent')\n",
    "plt.plot(dx, dy, color = 'k', linewidth = 2, label = 'Draw')\n",
    "plt.title('Two reinforcement learning agents')\n",
    "plt.xlabel('Number of Games')\n",
    "plt.ylabel('Number of Wins')\n",
    "plt.legend()\n",
    "plt.show()\n",
    "\n",
    "#print winning percentage \n",
    "print('Winning percentage for player 1 (RL agent): {} %'.format(sum(p1_wins)/len(p1_wins)))\n",
    "print('Winning percentage for player 2 (RL agent): ', sum(p2_wins)/len(p2_wins), '%')\n",
    "print('Percentage of a game being draw: ', sum(draw)/len(draw), '%')"
   ]
  },
  {
   "cell_type": "markdown",
   "id": "95f56659",
   "metadata": {},
   "source": [
    "Because it takes a long time to run the script we will only iterate through 10,000 games. If we look at the figure about we can see that the player 1 has a clear advantange. Next we will check the reward distribution for player 1 and player 2.\n"
   ]
  },
  {
   "cell_type": "code",
   "execution_count": 101,
   "id": "9b909d65",
   "metadata": {},
   "outputs": [
    {
     "data": {
      "image/png": "[encoded data removed]",
      "text/plain": [
       "<Figure size 1080x360 with 2 Axes>"
      ]
     },
     "metadata": {
      "needs_background": "light"
     },
     "output_type": "display_data"
    }
   ],
   "source": [
    "#reward distribution\n",
    "fig, ax = plt.subplots(1, 2, figsize = (15, 5))\n",
    "ax[0].hist(values1, bins = 20)\n",
    "ax[0].set_title('Player 1 reward distribution')\n",
    "ax[1].hist(values2, bins = 20)\n",
    "ax[1].set_title('Player 2 reward distribution')\n",
    "plt.show()"
   ]
  },
  {
   "cell_type": "markdown",
   "id": "d38d1331",
   "metadata": {},
   "source": [
    "Looking at the distribution we can see that both the agents have started to learn rewarding games. Running the algorithm 100,000 iterations will give more room for both the agents to learn and we should see more games with higher rewards. \n",
    "\n",
    "Next we will play with a random agent. Here one agent will be picking a move randomly while the other agent will be using RL to pick the best move. Will see how the results change. \n",
    "\n",
    "**RL Agent vs Random Agent**"
   ]
  },
  {
   "cell_type": "code",
   "execution_count": 102,
   "id": "d2e425ca",
   "metadata": {},
   "outputs": [],
   "source": [
    "#player 1 memory\n",
    "player1 = {}\n",
    "p1_wins = []\n",
    "states1 = []\n",
    "values1 = []\n",
    "\n",
    "player2 = {}\n",
    "p2_wins = []\n",
    "states2 = []\n",
    "values2 = []\n",
    "\n",
    "\n",
    "draw = []\n",
    "\n",
    "#number of iterations of self play\n",
    "num_its = 10**4\n",
    "\n",
    "\n",
    "for i in range(num_its):\n",
    "    \n",
    "    #player 1 is always first\n",
    "    player = 1\n",
    "    \n",
    "    #game_on\n",
    "    game_on = True\n",
    "      \n",
    "    #initialize the game\n",
    "    game = tick_tack_toe()\n",
    "\n",
    "    #intial values\n",
    "    move_number = 1\n",
    "    avail_moves = [1, 2, 3, 4, 5, 6, 7, 8, 9]\n",
    "    current_state = []\n",
    "    winner = ''\n",
    "\n",
    "    while move_number < 10:\n",
    "        \n",
    "\n",
    "        #if a winner is declared by the game.check_winner() the game will stop and will assign the rewards\n",
    "        if (winner == 'X') or (winner == 'O'):\n",
    "            \n",
    "            #print the end game after every 2000th iteration\n",
    "            if i % 10000 == 0:\n",
    "\n",
    "                game.print_board()\n",
    "\n",
    "\n",
    "            break\n",
    "        \n",
    "        #choose move for each player\n",
    "        \n",
    "        if player == 1:\n",
    "            move = choose_move(move_number, avail_moves, current_state, states1, values1, epsilon = 0.01)\n",
    "        \n",
    "        elif player == 2:\n",
    "            #move = choose_move(move_number, avail_moves, current_state, states2, values2, epsilon = 0.04)\n",
    "            move = np.random.choice(avail_moves)\n",
    "        \n",
    "        #play the move\n",
    "        _, avail_moves = game.play(move, player)\n",
    "        winner = game.check_winner()\n",
    "        \n",
    "        #change the move number\n",
    "        move_number = move_number + 1\n",
    "        #append the move to the current state\n",
    "        current_state.append(move)\n",
    "        \n",
    "        #switch turns\n",
    "        if player == 1:\n",
    "            player = 2\n",
    "        elif player == 2:\n",
    "            player = 1\n",
    "    \n",
    "    if winner == 'O':\n",
    "        \n",
    "        #player 1\n",
    "        player1 = give_reward(player1, current_state, 1)        \n",
    "        states_tup1 = player1.keys()\n",
    "        states1 = [list(s) for s in states_tup1]\n",
    "        values1 = list(player1.values())\n",
    "              \n",
    "        p1_wins.append(1)\n",
    "        p2_wins.append(0)\n",
    "        draw.append(0)\n",
    "        \n",
    "    elif winner == 'X':\n",
    "            \n",
    "        #player 1\n",
    "        player1 = give_reward(player1, current_state, -1)\n",
    "        states_tup1 = player1.keys()\n",
    "        states1 = [list(s) for s in states_tup1]\n",
    "        values1 = list(player1.values())\n",
    "        \n",
    "        p1_wins.append(0)\n",
    "        p2_wins.append(1)\n",
    "        draw.append(0)\n",
    "        \n",
    "        \n",
    "    elif winner is None:\n",
    "        \n",
    "        #player 1\n",
    "        player1 = give_reward(player1, current_state, 0.5)\n",
    "        states_tup1 = player1.keys()\n",
    "        states1 = [list(s) for s in states_tup1]\n",
    "        values1 = list(player1.values())\n",
    "\n",
    "        p1_wins.append(0)\n",
    "        p2_wins.append(0)\n",
    "        draw.append(1)"
   ]
  },
  {
   "cell_type": "code",
   "execution_count": 103,
   "id": "eeae1748",
   "metadata": {},
   "outputs": [
    {
     "data": {
      "image/png": "[encoded data removed]",
      "text/plain": [
       "<Figure size 720x576 with 1 Axes>"
      ]
     },
     "metadata": {
      "needs_background": "light"
     },
     "output_type": "display_data"
    },
    {
     "name": "stdout",
     "output_type": "stream",
     "text": [
      "Winning percentage for player 1 (RL agent): 58.8 %\n",
      "Winning percentage for player 2 (RL agent):  28.249999999999996 %\n",
      "Percentage of a game being draw:  12.950000000000001 %\n"
     ]
    }
   ],
   "source": [
    "#for player 1 and 2 find the cumulative sum \n",
    "\n",
    "x1, y1 = cum_sum(p1_wins)\n",
    "x2, y2 = cum_sum(p2_wins)\n",
    "dx, dy = cum_sum(draw)\n",
    "\n",
    "plt.figure(figsize = (10, 8))\n",
    "plt.plot(x1, y1, color = 'r', linewidth = 2, label = 'Player 1 - RL agent')\n",
    "plt.plot(x2, y2, color = 'b', linewidth = 2, label = 'Player 2 - Random')\n",
    "plt.plot(dx, dy, color = 'k', linewidth = 2, label = 'Draw')\n",
    "plt.title('Two reinforcement learning agents')\n",
    "plt.xlabel('Number of Games')\n",
    "plt.ylabel('Number of Wins')\n",
    "plt.legend()\n",
    "plt.show()\n",
    "\n",
    "#print winning percentage \n",
    "print('Winning percentage for player 1 (RL agent): {} %'.format(sum(p1_wins)/len(p1_wins)*100))\n",
    "print('Winning percentage for player 2 (RL agent): ', sum(p2_wins)/len(p2_wins)*100, '%')\n",
    "print('Percentage of a game being draw: ', sum(draw)/len(draw)*100, '%')"
   ]
  },
  {
   "cell_type": "code",
   "execution_count": 104,
   "id": "c359febb",
   "metadata": {},
   "outputs": [
    {
     "data": {
      "image/png": "[encoded data removed]",
      "text/plain": [
       "<Figure size 432x288 with 1 Axes>"
      ]
     },
     "metadata": {
      "needs_background": "light"
     },
     "output_type": "display_data"
    }
   ],
   "source": [
    "#reward distribution\n",
    "plt.figure(figsize = (6, 4))\n",
    "plt.hist(values1, bins = 20)\n",
    "plt.title('Player 1 reward distribution')\n",
    "plt.show()"
   ]
  },
  {
   "cell_type": "markdown",
   "id": "34b54f9c",
   "metadata": {},
   "source": [
    "**Random vs RL agent**"
   ]
  },
  {
   "cell_type": "code",
   "execution_count": 105,
   "id": "7f618d16",
   "metadata": {},
   "outputs": [],
   "source": [
    "#player 1 memory\n",
    "player1 = {}\n",
    "p1_wins = []\n",
    "states1 = []\n",
    "values1 = []\n",
    "\n",
    "player2 = {}\n",
    "p2_wins = []\n",
    "states2 = []\n",
    "values2 = []\n",
    "\n",
    "\n",
    "draw = []\n",
    "\n",
    "#number of iterations of self play\n",
    "num_its = 10**4\n",
    "\n",
    "\n",
    "for i in range(num_its):\n",
    "    \n",
    "    #player 1 is always first\n",
    "    player = 1\n",
    "    \n",
    "    #game_on\n",
    "    game_on = True\n",
    "      \n",
    "    #initialize the game\n",
    "    game = tick_tack_toe()\n",
    "\n",
    "    #intial values\n",
    "    move_number = 1\n",
    "    avail_moves = [1, 2, 3, 4, 5, 6, 7, 8, 9]\n",
    "    current_state = []\n",
    "    winner = ''\n",
    "\n",
    "    while move_number < 10:\n",
    "        \n",
    "\n",
    "        #if a winner is declared by the game.check_winner() the game will stop and will assign the rewards\n",
    "        if (winner == 'X') or (winner == 'O'):\n",
    "            \n",
    "            #print the end game after every 2000th iteration\n",
    "            if i % 10000 == 0:\n",
    "\n",
    "                game.print_board()\n",
    "\n",
    "\n",
    "            break\n",
    "        \n",
    "        #choose move for each player\n",
    "        \n",
    "        if player == 1:\n",
    "            #move = choose_move(move_number, avail_moves, current_state, states1, values1, epsilon = 0.04)\n",
    "            move = np.random.choice(avail_moves)\n",
    "            \n",
    "            \n",
    "        elif player == 2:\n",
    "            move = choose_move(move_number, avail_moves, current_state, states2, values2, epsilon = 0.01)\n",
    "            #move = np.random.choice(avail_moves)\n",
    "        \n",
    "        #play the move\n",
    "        _, avail_moves = game.play(move, player)\n",
    "        winner = game.check_winner()\n",
    "        \n",
    "        #change the move number\n",
    "        move_number = move_number + 1\n",
    "        #append the move to the current state\n",
    "        current_state.append(move)\n",
    "        \n",
    "        #switch turns\n",
    "        if player == 1:\n",
    "            player = 2\n",
    "        elif player == 2:\n",
    "            player = 1\n",
    "    \n",
    "    if winner == 'O':\n",
    "        \n",
    "        #player 2\n",
    "        player2 = give_reward(player2, current_state, 1)        \n",
    "        states_tup2 = player2.keys()\n",
    "        states2 = [list(s) for s in states_tup2]\n",
    "        values2 = list(player2.values())\n",
    "              \n",
    "        p1_wins.append(1)\n",
    "        p2_wins.append(0)\n",
    "        draw.append(0)\n",
    "        \n",
    "    elif winner == 'X':\n",
    "            \n",
    "        #player 2\n",
    "        player2 = give_reward(player2, current_state, -1)\n",
    "        states_tup2 = player2.keys()\n",
    "        states2 = [list(s) for s in states_tup2]\n",
    "        values2 = list(player2.values())\n",
    "        \n",
    "        p1_wins.append(0)\n",
    "        p2_wins.append(1)\n",
    "        draw.append(0)\n",
    "        \n",
    "        \n",
    "    elif winner is None:\n",
    "        \n",
    "        #player 1\n",
    "        player2 = give_reward(player2, current_state, 0.5)\n",
    "        states_tup2 = player2.keys()\n",
    "        states2 = [list(s) for s in states_tup2]\n",
    "        values2 = list(player2.values())\n",
    "\n",
    "        p1_wins.append(0)\n",
    "        p2_wins.append(0)\n",
    "        draw.append(1)"
   ]
  },
  {
   "cell_type": "code",
   "execution_count": 106,
   "id": "63f6b35c",
   "metadata": {},
   "outputs": [
    {
     "data": {
      "image/png": "[encoded data removed]",
      "text/plain": [
       "<Figure size 720x576 with 1 Axes>"
      ]
     },
     "metadata": {
      "needs_background": "light"
     },
     "output_type": "display_data"
    },
    {
     "name": "stdout",
     "output_type": "stream",
     "text": [
      "Winning percentage for player 1 (RL agent): 58.46 %\n",
      "Winning percentage for player 2 (RL agent):  28.68 %\n",
      "Percentage of a game being draw:  12.86 %\n"
     ]
    }
   ],
   "source": [
    "#for player 1 and 2 find the cumulative sum \n",
    "\n",
    "x1, y1 = cum_sum(p1_wins)\n",
    "x2, y2 = cum_sum(p2_wins)\n",
    "dx, dy = cum_sum(draw)\n",
    "\n",
    "plt.figure(figsize = (10, 8))\n",
    "plt.plot(x1, y1, color = 'r', linewidth = 2, label = 'Player 1 - Random')\n",
    "plt.plot(x2, y2, color = 'b', linewidth = 2, label = 'Player 2 - RL agent')\n",
    "plt.plot(dx, dy, color = 'k', linewidth = 2, label = 'Draw')\n",
    "plt.title('Two reinforcement learning agents')\n",
    "plt.xlabel('Number of Games')\n",
    "plt.ylabel('Number of Wins')\n",
    "plt.legend()\n",
    "plt.show()\n",
    "\n",
    "#print winning percentage \n",
    "print('Winning percentage for player 1 (RL agent): {} %'.format(sum(p1_wins)/len(p1_wins)*100))\n",
    "print('Winning percentage for player 2 (RL agent): ', sum(p2_wins)/len(p2_wins)*100, '%')\n",
    "print('Percentage of a game being draw: ', sum(draw)/len(draw)*100, '%')"
   ]
  },
  {
   "cell_type": "code",
   "execution_count": null,
   "id": "4b3c007e",
   "metadata": {},
   "outputs": [],
   "source": []
  }
 ],
 "metadata": {
  "kernelspec": {
   "display_name": "Python 3",
   "language": "python",
   "name": "python3"
  },
  "language_info": {
   "codemirror_mode": {
    "name": "ipython",
    "version": 3
   },
   "file_extension": ".py",
   "mimetype": "text/x-python",
   "name": "python",
   "nbconvert_exporter": "python",
   "pygments_lexer": "ipython3",
   "version": "3.7.6"
  }
 },
 "nbformat": 4,
 "nbformat_minor": 5
}
